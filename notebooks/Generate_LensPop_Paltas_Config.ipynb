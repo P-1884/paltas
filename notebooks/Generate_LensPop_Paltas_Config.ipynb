{
 "cells": [
  {
   "cell_type": "markdown",
   "metadata": {},
   "source": [
    "#### Filenames"
   ]
  },
  {
   "cell_type": "markdown",
   "metadata": {},
   "source": [
    "Galaxy catalogues from running the LensPop code are stored here:\n",
    "- /mnt/users/hollowayp/LensPop_Versions/LensPop_Catalogue_{Orig/DP0/True}_Config.csv \n",
    "\n",
    "These (only one catalogue for LSST at the moment) are then converted to paltas-esque catalogues, stored here, which contains details of the individual galaxies:\n",
    "- /mnt/zfsusers/hollowayp/paltas/datasets/LensPop_databases/LensPop_LSST_Paltas_Catalogue_0.csv\n",
    "\n",
    "A further file, of population-level data (mean/std), for training paltas is saved here:\n",
    "- /mnt/zfsusers/hollowayp/sim-pipeline/paltas_databases/Lenspop_{survey}_config_db.csv\n",
    "\n",
    "These are used to update 3 template config files:\n",
    "- f'{folder_path}/config_{survey}.py',\n",
    "- f'{folder_path}/config_{survey}_no_RSP.py',\n",
    "- f'{folder_path}/config_{survey}_no_subtr.py',\n",
    "\n",
    "to produce:\n",
    "\n",
    "- f'{folder_path}/config_{survey}_Lenspop.py'\n",
    "- f'{folder_path}/config_{survey}_Lenspop_no_RSP.py'\n",
    "- f'{folder_path}/config_{survey}_Lenspop_no_subtr.py'"
   ]
  },
  {
   "cell_type": "code",
   "execution_count": 2,
   "metadata": {},
   "outputs": [],
   "source": [
    "def lenspop_output_catalogue(version):\n",
    "    output_file = f'/mnt/users/hollowayp/LensPop_Versions/LensPop_Catalogue_{version}_Config.csv'\n",
    "    print(f'Saving to {output_file}')\n",
    "    return output_file\n",
    "\n",
    "def individual_galaxy_catalogue(survey):\n",
    "    output_file = f'/mnt/zfsusers/hollowayp/paltas/datasets/LensPop_databases/LensPop_{survey}_Paltas_Catalogue_0.csv'\n",
    "    return output_file\n",
    "\n",
    "def population_galaxy_catalogue(survey):\n",
    "    assert survey in ['LSST','Euclid'] #Needs to be 'Euclid' not 'Euclid_VIS' otherwise will save to wrong config file\n",
    "    output_file = f'/mnt/zfsusers/hollowayp/sim-pipeline/paltas_databases/Lenspop_{survey}_config_db.csv'\n",
    "    print(f'Saving to {output_file}')\n",
    "    return output_file"
   ]
  },
  {
   "cell_type": "markdown",
   "metadata": {},
   "source": [
    "# Code"
   ]
  },
  {
   "cell_type": "code",
   "execution_count": 2,
   "metadata": {},
   "outputs": [],
   "source": [
    "from scipy.stats import halfnorm,norm\n",
    "from seaborn import pairplot,kdeplot\n",
    "import matplotlib.pyplot as pl\n",
    "from tqdm import tqdm\n",
    "import pandas as pd\n",
    "import numpy as np\n",
    "import pickle\n",
    "import glob\n",
    "import json\n",
    "import sys\n",
    "import os\n",
    "sys.path.append('/mnt/zfsusers/hollowayp/paltas/')\n",
    "sys.path.append('/mnt/zfsusers/hollowayp/paltas/notebooks/')\n",
    "from Ellipticities_Translation import EllipticitiesTranslation\n",
    "from Load_LensPop_LSST_db import db_LensPop_LSST\n",
    "from plot_image_collage import plot_collage\n",
    "from load_h5_file import load_h5_file\n",
    "from generate_config_file_functions import generate_config_file,generate_config_file_based_on_database\n",
    "\n",
    "data = {}\n",
    "filenames_dict = {'Orig':glob.glob('/mnt/users/hollowayp/LensPop_Versions/LensPop/LensStats/LSST_lsst_Lens_stats_*.pkl'),\n",
    "            'DP0':glob.glob('/mnt/users/hollowayp/LensPop_Versions//LensPop_DP0_Config/LensStats/LSST_lsst_Lens_stats_*.pkl'),\n",
    "            'True':glob.glob('/mnt/users/hollowayp/LensPop_Versions/LensPop_LSST_True_Config/LensStats/LSST_lsst_Lens_stats_*.pkl')}\n",
    "\n",
    "for config_type in filenames_dict.keys():\n",
    "    data[config_type] = []\n",
    "    for filename_i in filenames_dict[config_type]:\n",
    "        with open(filename_i,'rb') as f:\n",
    "            data[config_type].append(pickle.load(f,encoding='latin1'))"
   ]
  },
  {
   "cell_type": "code",
   "execution_count": 4,
   "metadata": {},
   "outputs": [
    {
     "name": "stdout",
     "output_type": "stream",
     "text": [
      "{'Orig': 2832, 'DP0': 1658, 'True': 1806}\n"
     ]
    }
   ],
   "source": [
    "def get_nested(data, args_list):\n",
    "    if len(args_list)>0 and data:\n",
    "        element  = args_list[0]\n",
    "        if element:\n",
    "            value = data.get(element)\n",
    "            return value if len(args_list) == 1 else get_nested(value, args_list[1:])\n",
    "\n",
    "LensPop_output_dict = {'Orig':{},'DP0':{},'True':{}}\n",
    "key_dict = {'zl':'',\n",
    "            'zs':[1],\n",
    "            'seeing':['LSSTa','i_SDSS'],\n",
    "            'sigl':'',\n",
    "            'xs':[1],\n",
    "            'ps':[1],\n",
    "            'rs':[1],\n",
    "            'pf':['LSSTa',1], #All of these are true\n",
    "            'rl':['i_SDSS'],\n",
    "            'resolved':['LSSTa',1,'i_SDSS'], #Not all of these are true. This is the mu*R_source > seeing constraint.\n",
    "            'lens?':'', #All of these are true\n",
    "            'mag':[1],\n",
    "            'ys':[1],\n",
    "            'qs':[1],\n",
    "            'b':[1],\n",
    "            'ml':['i_SDSS'],\n",
    "            'msrc':[1,'i_SDSS'],\n",
    "            'SN':['LSSTa',1,'i_SDSS'],\n",
    "            'ms':[1,'i_SDSS'],\n",
    "            'ql':''\n",
    "    }\n",
    "\n",
    "N_dict = {'Orig':0,'DP0':0,'True':0}\n",
    "for LensPop_config in ['Orig','DP0','True']:\n",
    "    for file_indx in range(len(data[LensPop_config])):\n",
    "        data_i = data[LensPop_config][file_indx][1]\n",
    "        for d_i in data_i.keys():\n",
    "            N_dict[LensPop_config]+=1\n",
    "            if data_i[d_i]['pf']['LSSTa'][1]==False: continue #Rejecting systems which fail LSSTa cuts\n",
    "            for k_i in key_dict:\n",
    "                try:\n",
    "                    if key_dict[k_i]=='': LensPop_output_dict[LensPop_config][k_i].append(data_i[d_i][k_i])\n",
    "                    else: LensPop_output_dict[LensPop_config][k_i].append(get_nested(data_i[d_i][k_i],key_dict[k_i]))\n",
    "                except:\n",
    "                    if key_dict[k_i]=='': LensPop_output_dict[LensPop_config][k_i] = [data_i[d_i][k_i]]\n",
    "                    else: LensPop_output_dict[LensPop_config][k_i] = [get_nested(data_i[d_i][k_i],key_dict[k_i])]\n",
    "    db_i = pd.DataFrame(LensPop_output_dict[LensPop_config])\n",
    "    #Selecting maximum SNR:\n",
    "    db_i['SN'] = np.array([np.max(db_i['SN'][elem]) for elem in range(len(db_i))])\n",
    "    #Only selecting resolved systems with SNR_i>20:\n",
    "    db_i = db_i[(db_i['SN']>=20)&(db_i['resolved']==True)].reset_index()\n",
    "    LensPop_output_dict[LensPop_config]= db_i.copy()\n",
    "    LensPop_output_dict[LensPop_config]['Config']=LensPop_config\n",
    "\n",
    "pairplot_db = pd.concat([LensPop_output_dict[elem] for elem in ['Orig','DP0','True']],ignore_index=True).reset_index()\n",
    "\n",
    "for LensPop_config in ['Orig','DP0','True']:\n",
    "    LensPop_output_dict[LensPop_config] = LensPop_output_dict[LensPop_config]\n",
    "\n",
    "print(N_dict)"
   ]
  },
  {
   "cell_type": "code",
   "execution_count": 5,
   "metadata": {},
   "outputs": [
    {
     "name": "stdout",
     "output_type": "stream",
     "text": [
      "Saving to /mnt/users/hollowayp/LensPop_Versions/LensPop_Catalogue_Orig_Config.csv\n",
      "Saving to /mnt/users/hollowayp/LensPop_Versions/LensPop_Catalogue_DP0_Config.csv\n",
      "Saving to /mnt/users/hollowayp/LensPop_Versions/LensPop_Catalogue_True_Config.csv\n"
     ]
    }
   ],
   "source": [
    "#Dictionary to go from the LensPop-Code generated names to the names of the properties in the saved\n",
    "#LensPop .txt files.\n",
    "column_name_dict = {'zl':'zL','zs':'zS','sigl':'sig_v',\n",
    "                    'rs':'Re_source','rl':'Re_lens','qs':'q_source_flat','b':'tE','ml':'i_lens',\n",
    "                    'ms':'i_source','ql':'q_lens_flat'}\n",
    "def rand_position_angle(N_obj):\n",
    "    np.random.seed(1)\n",
    "    return 180*np.random.random(size=N_obj)\n",
    "\n",
    "for k_i in LensPop_output_dict.keys(): #Introducing a random PA offset so PA_lens isn't defined as zero\n",
    "    rand_position_angle_offset = rand_position_angle(len(LensPop_output_dict[k_i]))\n",
    "    LensPop_output_dict[k_i]['PA_source'] =  LensPop_output_dict[k_i]['ps']+rand_position_angle_offset\n",
    "    LensPop_output_dict[k_i]['PA_source']=LensPop_output_dict[k_i]['PA_source']%180 #Max value must be 180 as it was before\n",
    "    LensPop_output_dict[k_i]['PA_lens'] = rand_position_angle_offset\n",
    "    LensPop_output_dict[k_i]['PA_lens'] = LensPop_output_dict[k_i]['PA_lens']%180 #Max value must be 180 as it was before\n",
    "\n",
    "for k_i in LensPop_output_dict.keys():\n",
    "    LensPop_output_dict_e1e2_source = EllipticitiesTranslation(LensPop_output_dict[k_i]['PA_source']*(2*np.pi/360),\n",
    "                                                                LensPop_output_dict[k_i]['qs'])\n",
    "    LensPop_output_dict[k_i]['e1_source'] = LensPop_output_dict_e1e2_source[0]\n",
    "    LensPop_output_dict[k_i]['e2_source'] = LensPop_output_dict_e1e2_source[1]\n",
    "    LensPop_output_dict[k_i]=LensPop_output_dict[k_i].rename(column_name_dict,axis=1)\n",
    "\n",
    "np.random.seed(1)\n",
    "\n",
    "for k_i in LensPop_output_dict.keys():\n",
    "    #PA_LensPop_New = generate_LensPop_PA(LensPop_output_dict[k_i])\n",
    "    #LensPop_output_dict[k_i]['PA_lens'] = 0 #x-axis and Semi-major axis of lens are aligned (according to LensPop Paper) - now updated above to include random offset\n",
    "    db_LensPop_e1,db_LensPop_e2 = EllipticitiesTranslation(LensPop_output_dict[k_i]['PA_lens'],\n",
    "                                                           LensPop_output_dict[k_i]['q_lens_flat'])\n",
    "    LensPop_output_dict[k_i]['e1_lens'] = db_LensPop_e1\n",
    "    LensPop_output_dict[k_i]['e2_lens'] = db_LensPop_e2\n",
    "\n",
    "LensPop_output_dict['Orig'].to_csv(lenspop_output_catalogue('Orig'))\n",
    "LensPop_output_dict['DP0'].to_csv(lenspop_output_catalogue('DP0'))\n",
    "LensPop_output_dict['True'].to_csv(lenspop_output_catalogue('True'))"
   ]
  },
  {
   "cell_type": "code",
   "execution_count": 46,
   "metadata": {},
   "outputs": [
    {
     "data": {
      "text/plain": [
       "0.020587467122079595"
      ]
     },
     "execution_count": 46,
     "metadata": {},
     "output_type": "execute_result"
    }
   ],
   "source": [
    "LensPop_output_dict['DP0']['PA_lens'].min()"
   ]
  },
  {
   "cell_type": "markdown",
   "metadata": {},
   "source": [
    "### Corner Plot Comparison of LSST Versions"
   ]
  },
  {
   "cell_type": "code",
   "execution_count": null,
   "metadata": {},
   "outputs": [],
   "source": [
    "corner_dict = {'corner':True,'hue':'Config','kind':'scatter'}\n",
    "columns_to_plot = ['$z_L$','$z_S$','$\\sigma_v$','$R_{lens}$','$\\mu$','$i_{lens}$','$i_{source}$','$\\\\theta_E$','Config']\n",
    "pairplot_db = pairplot_db.rename({'zl':'$z_L$','zs':'$z_S$','sigl':'$\\sigma_v$',\n",
    "                                  'rl':'$R_{lens}$','mag':'$\\mu$','b':'$\\\\theta_E$',\n",
    "                                  'ms':'$i_{source}$','ml':'$i_{lens}$'},axis=1)\n",
    "g = pairplot(pairplot_db[columns_to_plot],**corner_dict,diag_kind=\"kde\", plot_kws={'alpha': 0.5})\n",
    "pl.setp(g.legend.get_title(), fontsize='25') # for legend title\n",
    "pl.setp(g.legend.get_texts(), fontsize='22') # for legend text\n",
    "g.tick_params(labelsize=15)\n",
    "g.tight_layout()\n",
    "for ax_x in range(g.axes.shape[0]):\n",
    "    for ax_y in range(g.axes.shape[1]):\n",
    "        try:\n",
    "            xlabel_i = g.axes[ax_x,ax_y].get_xlabel()\n",
    "            ylabel_i =  g.axes[ax_x,ax_y].get_ylabel()\n",
    "        except: continue\n",
    "        g.axes[ax_x,ax_y].set_xlabel(xlabel_i,fontsize=15)\n",
    "        g.axes[ax_x,ax_y].set_ylabel(ylabel_i,fontsize=15)\n",
    "pl.show()"
   ]
  },
  {
   "cell_type": "markdown",
   "metadata": {},
   "source": [
    "### Finding the noise level in RSP images, to exclude cutouts with galaxies in the centre "
   ]
  },
  {
   "cell_type": "code",
   "execution_count": 6,
   "metadata": {},
   "outputs": [
    {
     "data": {
      "text/plain": [
       "'/mnt/users/hollowayp/paltas/RSP_Coadd_Files_100000/85_image_data.h5'"
      ]
     },
     "execution_count": 6,
     "metadata": {},
     "output_type": "execute_result"
    }
   ],
   "source": [
    "glob.glob('/mnt/users/hollowayp/paltas/RSP_Coadd_Files_100000/*image*.h5')[0]"
   ]
  },
  {
   "cell_type": "code",
   "execution_count": 16,
   "metadata": {},
   "outputs": [
    {
     "name": "stderr",
     "output_type": "stream",
     "text": [
      "  0%|          | 0/1 [00:00<?, ?it/s]"
     ]
    },
    {
     "data": {
      "image/png": "[encoded data removed]",
      "text/plain": [
       "<Figure size 640x480 with 1 Axes>"
      ]
     },
     "metadata": {},
     "output_type": "display_data"
    },
    {
     "name": "stderr",
     "output_type": "stream",
     "text": [
      "100%|██████████| 1/1 [00:01<00:00,  1.67s/it]\n"
     ]
    }
   ],
   "source": [
    "np.random.seed(1)\n",
    "\n",
    "N_central_pixels = 26\n",
    "RSP_background_noise_cutoffs = {}\n",
    "for h5_file_i in tqdm(glob.glob('/mnt/users/hollowayp/paltas/RSP_Coadd_Files_100000/*image*.h5')[0:1]):\n",
    "    h5_index = h5_file_i.split('/')[-1].split('_')[0]\n",
    "    h5 = load_h5_file(h5_file_i)\n",
    "    X_plot = np.linspace(0.2,0,100)\n",
    "    X_plot_full = np.linspace(-0.2,0.2,100)\n",
    "    neg_h5 = -h5.flatten()[h5.flatten()<0]\n",
    "    #Fitting a half-norm distribution to the DP0 coadds (so noise calculation isn't affected by bright objects)\n",
    "    halfnorm0,halfnorm1 = halfnorm.fit(neg_h5)\n",
    "    pl.hist((h5.flatten()),density=True,bins=np.linspace(-0.2,0.2,100))\n",
    "    pl.plot(-X_plot,0.5*halfnorm.pdf(X_plot,halfnorm0,halfnorm1))\n",
    "    pl.plot(X_plot_full,norm.pdf(X_plot_full,halfnorm0,halfnorm1))\n",
    "    pl.show()\n",
    "    # print(halfnorm0,halfnorm1)\n",
    "    rand_norm_array = norm(halfnorm0,halfnorm1).rvs(size=(N_central_pixels,N_central_pixels,10000)).sum(axis=0).sum(axis=0)\n",
    "    #Exclude cutout if there the central pixels have sum at least 2-sigma higher than expected from the noise.\n",
    "    RSP_background_noise_cutoffs[int(h5_index)] = np.mean(rand_norm_array)+2*np.std(rand_norm_array)\n",
    "\n",
    "RSP_background_noise_cutoffs['N_central_pixels'] = N_central_pixels\n",
    "# with open('/mnt/users/hollowayp/paltas/RSP_Coadd_Files_100000/Noise_dict.json', \"w\") as f: \n",
    "#     json.dump(RSP_background_noise_cutoffs, f)\n"
   ]
  },
  {
   "cell_type": "code",
   "execution_count": 17,
   "metadata": {},
   "outputs": [
    {
     "data": {
      "image/png": "[encoded data removed]",
      "text/plain": [
       "<Figure size 640x480 with 1 Axes>"
      ]
     },
     "metadata": {},
     "output_type": "display_data"
    },
    {
     "data": {
      "text/plain": [
       "3.243467274422108"
      ]
     },
     "execution_count": 17,
     "metadata": {},
     "output_type": "execute_result"
    }
   ],
   "source": [
    "measure_noise_level_in_RSP_coadd(h5,N_central_pixels,plot=True)"
   ]
  },
  {
   "cell_type": "code",
   "execution_count": 14,
   "metadata": {},
   "outputs": [
    {
     "data": {
      "text/plain": [
       "{85: 3.243467274422108, 'N_central_pixels': 26}"
      ]
     },
     "execution_count": 14,
     "metadata": {},
     "output_type": "execute_result"
    }
   ],
   "source": [
    "RSP_background_noise_cutoffs"
   ]
  },
  {
   "cell_type": "markdown",
   "metadata": {},
   "source": [
    "### Plotting which pass/fail the SNR Cut:"
   ]
  },
  {
   "cell_type": "code",
   "execution_count": null,
   "metadata": {},
   "outputs": [],
   "source": [
    "N_cols = 11;N_images = 5*N_cols\n",
    "N_fail=0;N_pass=0\n",
    "h5_to_plot = 1 #Index to plot\n",
    "h5_array = load_h5_file(f'/mnt/users/hollowayp/paltas/RSP_Coadd_Files_100000/{h5_to_plot}_image_data.h5')\n",
    "central_pixel = h5_array.shape[1]//2\n",
    "fig,ax = pl.subplots(2,N_cols,figsize=(20,5))\n",
    "for n_im in range(N_images):\n",
    "    image_i = h5_array[n_im,:,:]\n",
    "    if np.sum(image_i[\n",
    "                central_pixel-(N_central_pixels//2):central_pixel+(N_central_pixels//2),\n",
    "                central_pixel-(N_central_pixels//2):central_pixel+(N_central_pixels//2)])>RSP_background_noise_cutoffs[h5_to_plot]:\n",
    "        y=1\n",
    "        if N_fail<N_cols:\n",
    "            ax[y,N_fail].imshow(image_i,vmin=-0.1,vmax=0.05*RSP_background_noise_cutoffs[h5_to_plot])\n",
    "            ax[y,N_fail].set_xticks([])\n",
    "            ax[y,N_fail].set_yticks([])\n",
    "        N_fail+=1\n",
    "    else: \n",
    "        y=0\n",
    "        if N_pass<N_cols:\n",
    "            ax[y,N_pass].imshow(image_i,vmin=-0.1,vmax=0.05*RSP_background_noise_cutoffs[h5_to_plot])\n",
    "            ax[y,N_pass].set_xticks([])\n",
    "            ax[y,N_pass].set_yticks([])\n",
    "        N_pass+=1\n",
    "    if N_pass==N_fail and N_pass==N_cols: break\n",
    "for i in range(2):\n",
    "    for j in range(N_cols):\n",
    "        p_start = (h5_array.shape[1]-N_central_pixels)//2\n",
    "        p_end = (h5_array.shape[1]+N_central_pixels)//2\n",
    "        ax[i,j].plot([p_start,p_end],[p_end,p_end],c='white')\n",
    "        ax[i,j].plot([p_start,p_end],[p_start,p_start],c='white')\n",
    "        ax[i,j].plot([p_start,p_start],[p_start,p_end],c='white')\n",
    "        ax[i,j].plot([p_end,p_end],[p_start,p_end],c='white')\n",
    "\n",
    "ax[0,N_cols//2].set_title('Pass Cut',fontsize=18)\n",
    "ax[1,N_cols//2].set_title('Fail Cut',fontsize=18)\n",
    "pl.suptitle('Applying $2\\sigma$ RSP-Background noise cut',fontweight='bold',fontsize=21)\n",
    "pl.tight_layout()\n",
    "pl.show()\n"
   ]
  },
  {
   "cell_type": "markdown",
   "metadata": {},
   "source": [
    "### Generating Paltas Config File"
   ]
  },
  {
   "cell_type": "code",
   "execution_count": 6,
   "metadata": {},
   "outputs": [
    {
     "name": "stdout",
     "output_type": "stream",
     "text": [
      "Using DP0-Adapted LensPop Instead. Note: db_LensPop_LSST has been re-defined to be this database\n",
      "... This does not affect db_LensPop_Euclid.\n"
     ]
    }
   ],
   "source": [
    "try: del db_LensPop_LSST\n",
    "except: pass\n",
    "#If I don't want to use the original LensPop output files directly from GitHub, but rather my \n",
    "#DP0-suited output files from LensPop code I have run myself, I should run this instead:\n",
    "db_LensPop_LSST = LensPop_output_dict['DP0'] #pd.read_csv(lenspop_output_catalogue('DP0'))\n",
    "print('Using DP0-Adapted LensPop Instead. Note: db_LensPop_LSST has been re-defined to be this database')\n",
    "print('... This does not affect db_LensPop_Euclid.')\n",
    "#This adapted db was developed here:\n",
    "#/mnt/users/hollowayp/LensPop_Versions/Compare_LensPop_Populations.ipynb"
   ]
  },
  {
   "cell_type": "code",
   "execution_count": 7,
   "metadata": {},
   "outputs": [
    {
     "name": "stdout",
     "output_type": "stream",
     "text": [
      "Need to revisit this section - have arbitrarily fixed some values\n"
     ]
    }
   ],
   "source": [
    "Lenspop_db_to_config_format_dict = {'zL':['main_deflector*parameters*z_lens','lens_light*parameters*z_source'],\n",
    "                            'tE':'main_deflector*parameters*theta_E',\n",
    "                            'defl_mass_x':'main_deflector*parameters*center_x',#\n",
    "                            'defl_mass_y':'main_deflector*parameters*center_y',#\n",
    "                            'defl_gamma':'main_deflector*parameters*gamma',#\n",
    "                            'defl_e1_mass':'main_deflector*parameters*e1',#\n",
    "                            'defl_e2_mass':'main_deflector*parameters*e2',#\n",
    "                            'defl_gamma1':'main_deflector*parameters*gamma1',#\n",
    "                            'defl_gamma2':'main_deflector*parameters*gamma2',#\n",
    "                            'i_lens':'lens_light*parameters*mag_app',#For LSST\n",
    "                            'VIS_lens':'lens_light*parameters*mag_app',#For Euclid\n",
    "                            'Re_lens':'lens_light*parameters*R_sersic',\n",
    "                            'defl_Ns':'lens_light*parameters*n_sersic',#\n",
    "                            'defl_e1_light':'lens_light*parameters*e1',#\n",
    "                            'defl_e2_light':'lens_light*parameters*e2',#\n",
    "                            'defl_light_x':'lens_light*parameters*center_x',#\n",
    "                            'defl_light_y':'lens_light*parameters*center_y',#\n",
    "                            'zS':'source*parameters*z_source',\n",
    "                            'i_source':'source*parameters*mag_app',#For LSST\n",
    "                            'VIS_source':'source*parameters*mag_app',#For Euclid\n",
    "                            'Re_source':'source*parameters*R_sersic',\n",
    "                            'source_Ns':'source*parameters*n_sersic',#\n",
    "                            'xs':'source*parameters*center_x',\n",
    "                            'ys':'source*parameters*center_y',\n",
    "                            'e1_source':'source*parameters*e1',\n",
    "                            'e2_source':'source*parameters*e2'}\n",
    "\n",
    "Lenspop_to_config_trunc_dict = {'zL':[True,True],\n",
    "                            'tE':True,\n",
    "                            'defl_mass_x':False,\n",
    "                            'defl_mass_y':False,\n",
    "                            'defl_gamma':True,\n",
    "                            'defl_e1_mass':False,\n",
    "                            'defl_e2_mass':False,\n",
    "                            'defl_gamma1':False,\n",
    "                            'defl_gamma2':False,\n",
    "                            'i_lens':False,#For LSST\n",
    "                            'VIS_lens':False,#For Euclid\n",
    "                            'Re_lens':True,\n",
    "                            'defl_Ns':True,\n",
    "                            'defl_e1_light':False,\n",
    "                            'defl_e2_light':False,\n",
    "                            'defl_light_x':False,\n",
    "                            'defl_light_y':False,\n",
    "                            'zS':True,\n",
    "                            'i_source':False,#For LSST\n",
    "                            'VIS_source':False,#For Euclid\n",
    "                            'Re_source':True,\n",
    "                            'source_Ns':True,\n",
    "                            'xs':False,\n",
    "                            'ys':False,\n",
    "                            'e1_source':False,\n",
    "                            'e2_source':False}\n",
    "print('Need to revisit this section - have arbitrarily fixed some values')\n",
    "\n",
    "for db_LensPop_i in [db_LensPop_LSST]:#,db_LensPop_Euclid]:\n",
    "    #Setting various properties to fixed values - need to come back to this later:\n",
    "    db_LensPop_i['defl_mass_x']=0 #Assert lens is centered\n",
    "    db_LensPop_i['defl_mass_y']=0\n",
    "    db_LensPop_i['defl_light_x']=0\n",
    "    db_LensPop_i['defl_light_y']=0\n",
    "    db_LensPop_i['defl_gamma']=2 #Assert SIS profile\n",
    "    db_LensPop_i['defl_e1_mass']=db_LensPop_i['e1_lens'] #Assert lens light ellipticity follows the mass\n",
    "    db_LensPop_i['defl_e2_mass']=db_LensPop_i['e2_lens']\n",
    "    db_LensPop_i['defl_e1_light']=db_LensPop_i['e1_lens']\n",
    "    db_LensPop_i['defl_e2_light']=db_LensPop_i['e2_lens']\n",
    "    db_LensPop_i['defl_gamma1']=0 #Assert no shear\n",
    "    db_LensPop_i['defl_gamma2']=0\n",
    "    db_LensPop_i['defl_Ns']=4 #Assert lens sersic index = 4\n",
    "    db_LensPop_i['source_Ns']=1 #Assert source sersic index = 1\n",
    "    db_LensPop_describe_i = db_LensPop_i.describe()\n",
    "    db_LensPop_describe_i.loc['sigma_to_zero'] = db_LensPop_describe_i.loc['mean']/db_LensPop_describe_i.loc['std']\n",
    "\n",
    "db_LensPop_LSST.to_csv(individual_galaxy_catalogue('LSST'))\n",
    "# db_LensPop_Euclid.to_csv(individual_galaxy_catalogue('Euclid'))\n"
   ]
  },
  {
   "cell_type": "code",
   "execution_count": 14,
   "metadata": {},
   "outputs": [
    {
     "data": {
      "text/plain": [
       "'/mnt/zfsusers/hollowayp/paltas/datasets/LensPop_databases/LensPop_LSST_Paltas_Catalogue_0.csv'"
      ]
     },
     "execution_count": 14,
     "metadata": {},
     "output_type": "execute_result"
    }
   ],
   "source": [
    "individual_galaxy_catalogue('LSST')"
   ]
  },
  {
   "cell_type": "code",
   "execution_count": 8,
   "metadata": {},
   "outputs": [
    {
     "name": "stdout",
     "output_type": "stream",
     "text": [
      "Saving to /mnt/zfsusers/hollowayp/sim-pipeline/paltas_databases/Lenspop_LSST_config_db.csv\n"
     ]
    },
    {
     "name": "stderr",
     "output_type": "stream",
     "text": [
      "/tmp/ipykernel_2791418/3469244366.py:26: RuntimeWarning: invalid value encountered in scalar divide\n",
      "  if ~np.isnan(mean_i/std_i):\n",
      "/tmp/ipykernel_2791418/3469244366.py:26: RuntimeWarning: divide by zero encountered in scalar divide\n",
      "  if ~np.isnan(mean_i/std_i):\n",
      "/tmp/ipykernel_2791418/3469244366.py:27: RuntimeWarning: divide by zero encountered in scalar divide\n",
      "  LP_list_of_sigma_to_zero.append(-mean_i/std_i)\n"
     ]
    }
   ],
   "source": [
    "for survey in ['LSST']:#,'Euclid_VIS']:\n",
    "    db_LensPop_i = {'LSST':db_LensPop_LSST,\n",
    "                    #'Euclid_VIS':db_LensPop_Euclid\n",
    "                    }[survey]\n",
    "    LP_list_of_means=[]\n",
    "    LP_list_of_std=[]\n",
    "    LP_list_of_sigma_to_zero=[]\n",
    "    LP_list_of_trunc_bool=[]\n",
    "    LP_list_of_properties=[]\n",
    "    for prop_i in Lenspop_db_to_config_format_dict.keys():\n",
    "        if (prop_i in ['i_lens','i_source']) and (survey=='Euclid_VIS'): continue\n",
    "        if (prop_i in ['VIS_lens','VIS_source']) and (survey=='LSST'):continue\n",
    "        if isinstance(Lenspop_db_to_config_format_dict[prop_i],list):\n",
    "            LP_list_of_properties.extend(Lenspop_db_to_config_format_dict[prop_i])\n",
    "            LP_list_of_trunc_bool.extend(Lenspop_to_config_trunc_dict[prop_i])\n",
    "            N_add=2\n",
    "        else:\n",
    "            LP_list_of_properties.append(Lenspop_db_to_config_format_dict[prop_i])\n",
    "            LP_list_of_trunc_bool.append(Lenspop_to_config_trunc_dict[prop_i])\n",
    "            N_add=1\n",
    "        for i in range(N_add):\n",
    "            mean_i = np.mean(db_LensPop_i[prop_i])\n",
    "            std_i = np.std(db_LensPop_i[prop_i])\n",
    "            LP_list_of_means.append(mean_i)\n",
    "            LP_list_of_std.append(std_i)\n",
    "            if ~np.isnan(mean_i/std_i): \n",
    "                LP_list_of_sigma_to_zero.append(-mean_i/std_i)\n",
    "            else: LP_list_of_sigma_to_zero.append(0)\n",
    "    Lenspop_Config_db = pd.DataFrame({'prop':LP_list_of_properties,\n",
    "                                    'mean':LP_list_of_means,\n",
    "                                    'std':LP_list_of_std,\n",
    "                                    'std1p5':1.5*np.array(LP_list_of_std),\n",
    "                                    'sigma_to_zero':LP_list_of_sigma_to_zero,\n",
    "                                    'sigma1p5_to_zero':np.array(LP_list_of_sigma_to_zero)/1.5,\n",
    "                                    'std1p5':1.5*np.array(LP_list_of_std),\n",
    "                                    'trunc_bool':LP_list_of_trunc_bool\n",
    "                                    })\n",
    "    if survey=='LSST':Lenspop_Config_db.to_csv(population_galaxy_catalogue(survey))\n",
    "    if survey=='Euclid_VIS': Lenspop_Config_db.to_csv(population_galaxy_catalogue('Euclid'))"
   ]
  },
  {
   "cell_type": "code",
   "execution_count": 50,
   "metadata": {},
   "outputs": [],
   "source": [
    "def code_to_check_configs(survey,catalogue):\n",
    "    if catalogue: \n",
    "        parent_config_file = f'{folder_path}/config_{survey}_Lenspop.py'\n",
    "        RSP_config_file = f'{folder_path}/config_{survey}_Lenspop_no_RSP.py'\n",
    "        subtr_config_file = f'{folder_path}/config_{survey}_Lenspop_no_subtr.py'\n",
    "    else:\n",
    "        parent_config_file = f'{folder_path}/config_LensPop_catalogue.py'\n",
    "        RSP_config_file = f'{folder_path}/config_LensPop_catalogue_no_RSP.py'\n",
    "        subtr_config_file = f'{folder_path}/config_LensPop_catalogue_no_subtr.py'\n",
    "    for l_0,line_0 in enumerate(open(parent_config_file,'r')):\n",
    "        for l_1,line_1 in enumerate(open(RSP_config_file,'r')):\n",
    "            if l_0!=l_1: continue #Only compare entries on the same line\n",
    "            if len(line_0)>1 and len(line_1)>1:\n",
    "                try:\n",
    "                    if line_0[0]!='#': line_0=line_0.split('#')[0].replace('\\n','')\n",
    "                    if line_1[0]!='#': line_1=line_1.split('#')[0].replace('\\n','')\n",
    "                except: line_0.replace('\\n','');line_1.replace('\\n','')\n",
    "            #Checking the config files are identical apart from gain, read_noise, sky-brightness, num_exp.\n",
    "            #(Background noise should always be None anyway, and exp_time is 30s regardless of whether using DP0 or not)\n",
    "            if line_0 in [\"'exposure_time':30,'sky_brightness':100, \"]: assert \"exposure_time':30\" in line_0 and \"'exposure_time':30\" in line_1\n",
    "            if line_0 in [\"'num_exposures':None,'background_noise':None\"]:assert \"background_noise':None\" in line_0 and \"background_noise':None\" in line_1\n",
    "            if line_0 in ['add_RSP_background=True',\n",
    "                        'assert add_RSP_background==True',\n",
    "                        \"'pixel_scale':0.2,'ccd_gain':0.7,'read_noise':0, \",\n",
    "                        \"'exposure_time':30,'sky_brightness':100, \",\n",
    "                        \"'num_exposures':None,'background_noise':None\"]: continue\n",
    "            if l_0==l_1:assert line_0==line_1\n",
    "    for l_0,line_0 in enumerate(open(parent_config_file,'r')):\n",
    "        for l_1,line_1 in enumerate(open(subtr_config_file,'r')):\n",
    "            if l_0!=l_1: continue #Only compare entries on the same line  \n",
    "            if line_0 !=\"'lens_subtraction':True,\\n\": assert line_0==line_1  "
   ]
  },
  {
   "cell_type": "code",
   "execution_count": 51,
   "metadata": {},
   "outputs": [],
   "source": [
    "import numpy as np\n",
    "from importlib import reload\n",
    "reload(sys.modules['generate_config_file_functions'])\n",
    "from generate_config_file_functions import generate_config_file,generate_config_file_based_on_database"
   ]
  },
  {
   "cell_type": "code",
   "execution_count": 52,
   "metadata": {},
   "outputs": [
    {
     "name": "stdout",
     "output_type": "stream",
     "text": [
      "Saving to /mnt/zfsusers/hollowayp/sim-pipeline/paltas_databases/Lenspop_LSST_config_db.csv\n",
      "SETTING POWER-LAW SLOPE TO 2, WITH LARGE SCATTER OF 0.22 - derived myself - see SL2S_SLACS_Lens_Properties_Notebook.ipynb\n",
      "{'main_deflector': {'parameters': {'z_lens': 'truncnorm(-1.1881,np.inf,loc=0.421,scale=0.3544).rvs', 'theta_E': 'truncnorm(-2.6075,np.inf,loc=1.5407,scale=0.5909).rvs', 'center_x': 'norm(loc=0.0,scale=0.15).rvs', 'center_y': 'norm(loc=0.0,scale=0.15).rvs', 'gamma': 'truncnorm(-3.0303,np.inf,loc=2.0,scale=0.33).rvs', 'e1': 'norm(loc=0.0194,scale=0.2039).rvs', 'e2': 'norm(loc=0.0012,scale=0.2084).rvs', 'gamma1': 'norm(loc=0.0,scale=0.0975).rvs', 'gamma2': 'norm(loc=0.0,scale=0.0975).rvs'}}, 'lens_light': {'parameters': {'z_source': 'truncnorm(-1.1881,np.inf,loc=0.421,scale=0.3544).rvs', 'mag_app': 'norm(loc=17.5732,scale=2.7737).rvs', 'output_ab_zeropoint': None, 'R_sersic': 'truncnorm(-0.9474,np.inf,loc=1.144,scale=1.2076).rvs', 'n_sersic': 4.0, 'e1': 'norm(loc=0.0194,scale=0.2039).rvs', 'e2': 'norm(loc=0.0012,scale=0.2084).rvs', 'center_x': 'norm(loc=0.0,scale=0.15).rvs', 'center_y': 'norm(loc=0.0,scale=0.15).rvs'}}, 'source': {'parameters': {'z_source': 'truncnorm(-1.3248,np.inf,loc=1.8248,scale=1.3774).rvs', 'mag_app': 'norm(loc=24.4683,scale=1.5905).rvs', 'R_sersic': 'truncnorm(-1.0747,np.inf,loc=0.4028,scale=0.3748).rvs', 'n_sersic': 1.0, 'center_x': 'norm(loc=-0.0358,scale=0.6046).rvs', 'center_y': 'norm(loc=0.0264,scale=0.7291).rvs', 'e1': 'norm(loc=0.0065,scale=0.2767).rvs', 'e2': 'norm(loc=-0.0037,scale=0.2852).rvs'}}}\n",
      "['main_deflector']\n",
      "EX 'main_deflector' 'main_deflector':{\n",
      "EX 'class' 'class': PEMDShear,\n",
      "['main_deflector', 'parameters']\n",
      "EX 'parameters' 'parameters':{\n",
      "EX 'M200' 'M200': 1e13,\n",
      "EX 'ra_0' 'ra_0':0.0, 'dec_0':0.0\n",
      "['main_deflector']\n",
      "EX '}' }\n",
      "[]\n",
      "EX '},' },\n",
      "['lens_light']\n",
      "EX 'lens_light' 'lens_light':{\n",
      "EX 'class' 'class': SingleSersicSource,\n",
      "['lens_light', 'parameters']\n",
      "EX 'parameters' 'parameters':{\n",
      "['lens_light']\n",
      "EX '}' }\n",
      "[]\n",
      "EX '},' },\n",
      "['source']\n",
      "EX 'source' 'source':{\n",
      "EX 'class' 'class': SingleSersicSource,\n",
      "['source', 'parameters']\n",
      "EX 'parameters' 'parameters':{\n",
      "EX 'output_ab_zeropoint' 'output_ab_zeropoint':output_ab_zeropoint,\n",
      "['source']\n",
      "EX '}' }\n",
      "[]\n",
      "EX '},' },\n",
      "['cosmology']\n",
      "EX 'cosmology' 'cosmology':{\n",
      "['cosmology', 'parameters']\n",
      "EX 'cosmology' 'parameters':{\n",
      "EX 'cosmology' 'cosmology_name': 'planck18'\n",
      "['cosmology']\n",
      "EX 'cosmology' }\n",
      "[]\n",
      "EX '},' },\n",
      "['psf']\n",
      "EX 'psf' 'psf':{\n",
      "['psf', 'parameters']\n",
      "EX 'psf' 'parameters':{\n",
      "EX 'psf' 'psf_type':'GAUSSIAN',\n",
      "EX 'psf' 'fwhm': 0.71\n",
      "EX 'psf' \n",
      "['psf']\n",
      "EX 'psf' }\n",
      "[]\n",
      "EX '},' },\n",
      "['detector']\n",
      "EX 'detector' 'detector':{\n",
      "['detector', 'parameters']\n",
      "EX 'detector' 'parameters':{\n",
      "EX 'detector' 'pixel_scale':0.2,'ccd_gain':0.7,'read_noise':0, #Noise is added from RSP. Gain from here https://community.lsst.org/t/dp0-zeropoints-adding-poisson-noise/8230/7, correct for DP0\n",
      "EX 'detector' 'magnitude_zero_point':output_ab_zeropoint,\n",
      "EX 'detector' 'exposure_time':30,'sky_brightness':100, #Sky needs to be faint, as added in from RSP. Exposure time must = 30 for RSP.\n",
      "EX 'detector' 'num_exposures':None,'background_noise':None\n",
      "['detector']\n",
      "EX 'detector' }\n",
      "[]\n",
      "EX '},' },\n",
      "EX 'lens_subtraction' 'lens_subtraction':True,\n",
      "[]\n",
      "EX '}' }\n",
      "{'main_deflector': {'parameters': {'z_lens': 'truncnorm(-1.1881,np.inf,loc=0.421,scale=0.3544).rvs', 'theta_E': 'truncnorm(-2.6075,np.inf,loc=1.5407,scale=0.5909).rvs', 'center_x': 'norm(loc=0.0,scale=0.15).rvs', 'center_y': 'norm(loc=0.0,scale=0.15).rvs', 'gamma': 'truncnorm(-3.0303,np.inf,loc=2.0,scale=0.33).rvs', 'e1': 'norm(loc=0.0194,scale=0.2039).rvs', 'e2': 'norm(loc=0.0012,scale=0.2084).rvs', 'gamma1': 'norm(loc=0.0,scale=0.0975).rvs', 'gamma2': 'norm(loc=0.0,scale=0.0975).rvs'}}, 'lens_light': {'parameters': {'z_source': 'truncnorm(-1.1881,np.inf,loc=0.421,scale=0.3544).rvs', 'mag_app': 'norm(loc=17.5732,scale=2.7737).rvs', 'output_ab_zeropoint': None, 'R_sersic': 'truncnorm(-0.9474,np.inf,loc=1.144,scale=1.2076).rvs', 'n_sersic': 4.0, 'e1': 'norm(loc=0.0194,scale=0.2039).rvs', 'e2': 'norm(loc=0.0012,scale=0.2084).rvs', 'center_x': 'norm(loc=0.0,scale=0.15).rvs', 'center_y': 'norm(loc=0.0,scale=0.15).rvs'}}, 'source': {'parameters': {'z_source': 'truncnorm(-1.3248,np.inf,loc=1.8248,scale=1.3774).rvs', 'mag_app': 'norm(loc=24.4683,scale=1.5905).rvs', 'R_sersic': 'truncnorm(-1.0747,np.inf,loc=0.4028,scale=0.3748).rvs', 'n_sersic': 1.0, 'center_x': 'norm(loc=-0.0358,scale=0.6046).rvs', 'center_y': 'norm(loc=0.0264,scale=0.7291).rvs', 'e1': 'norm(loc=0.0065,scale=0.2767).rvs', 'e2': 'norm(loc=-0.0037,scale=0.2852).rvs'}}}\n",
      "['main_deflector']\n",
      "EX 'main_deflector' 'main_deflector':{\n",
      "EX 'class' 'class': PEMDShear,\n",
      "['main_deflector', 'parameters']\n",
      "EX 'parameters' 'parameters':{\n",
      "EX 'M200' 'M200': 1e13,\n",
      "EX 'ra_0' 'ra_0':0.0, 'dec_0':0.0\n",
      "['main_deflector']\n",
      "EX '}' }\n",
      "[]\n",
      "EX '},' },\n",
      "['lens_light']\n",
      "EX 'lens_light' 'lens_light':{\n",
      "EX 'class' 'class': SingleSersicSource,\n",
      "['lens_light', 'parameters']\n",
      "EX 'parameters' 'parameters':{\n",
      "['lens_light']\n",
      "EX '}' }\n",
      "[]\n",
      "EX '},' },\n",
      "['source']\n",
      "EX 'source' 'source':{\n",
      "EX 'class' 'class': SingleSersicSource,\n",
      "['source', 'parameters']\n",
      "EX 'parameters' 'parameters':{\n",
      "EX 'output_ab_zeropoint' 'output_ab_zeropoint':output_ab_zeropoint,\n",
      "['source']\n",
      "EX '}' }\n",
      "[]\n",
      "EX '},' },\n",
      "['cosmology']\n",
      "EX 'cosmology' 'cosmology':{\n",
      "['cosmology', 'parameters']\n",
      "EX 'cosmology' 'parameters':{\n",
      "EX 'cosmology' 'cosmology_name': 'planck18'\n",
      "['cosmology']\n",
      "EX 'cosmology' }\n",
      "[]\n",
      "EX '},' },\n",
      "['psf']\n",
      "EX 'psf' 'psf':{\n",
      "['psf', 'parameters']\n",
      "EX 'psf' 'parameters':{\n",
      "EX 'psf' 'psf_type':'GAUSSIAN',\n",
      "EX 'psf' 'fwhm': 0.71\n",
      "EX 'psf' \n",
      "['psf']\n",
      "EX 'psf' }\n",
      "[]\n",
      "EX '},' },\n",
      "['detector']\n",
      "EX 'detector' 'detector':{\n",
      "['detector', 'parameters']\n",
      "EX 'detector' 'parameters':{\n",
      "EX 'detector' 'pixel_scale':0.2,'ccd_gain':2.3,'read_noise':10, #Noise is added from RSP. Gain from here https://community.lsst.org/t/dp0-zeropoints-adding-poisson-noise/8230/7, correct for DP0\n",
      "EX 'detector' 'magnitude_zero_point':output_ab_zeropoint,\n",
      "EX 'detector' 'exposure_time':30,'sky_brightness':20.48,\n",
      "EX 'detector' 'num_exposures':100,'background_noise':None  #Number of exposures matching the DP0 coadds.\n",
      "['detector']\n",
      "EX 'detector' }\n",
      "[]\n",
      "EX '},' },\n",
      "EX 'lens_subtraction' 'lens_subtraction':True,\n",
      "[]\n",
      "EX '}' }\n",
      "{'main_deflector': {'parameters': {'z_lens': 'truncnorm(-1.1881,np.inf,loc=0.421,scale=0.3544).rvs', 'theta_E': 'truncnorm(-2.6075,np.inf,loc=1.5407,scale=0.5909).rvs', 'center_x': 'norm(loc=0.0,scale=0.15).rvs', 'center_y': 'norm(loc=0.0,scale=0.15).rvs', 'gamma': 'truncnorm(-3.0303,np.inf,loc=2.0,scale=0.33).rvs', 'e1': 'norm(loc=0.0194,scale=0.2039).rvs', 'e2': 'norm(loc=0.0012,scale=0.2084).rvs', 'gamma1': 'norm(loc=0.0,scale=0.0975).rvs', 'gamma2': 'norm(loc=0.0,scale=0.0975).rvs'}}, 'lens_light': {'parameters': {'z_source': 'truncnorm(-1.1881,np.inf,loc=0.421,scale=0.3544).rvs', 'mag_app': 'norm(loc=17.5732,scale=2.7737).rvs', 'output_ab_zeropoint': None, 'R_sersic': 'truncnorm(-0.9474,np.inf,loc=1.144,scale=1.2076).rvs', 'n_sersic': 4.0, 'e1': 'norm(loc=0.0194,scale=0.2039).rvs', 'e2': 'norm(loc=0.0012,scale=0.2084).rvs', 'center_x': 'norm(loc=0.0,scale=0.15).rvs', 'center_y': 'norm(loc=0.0,scale=0.15).rvs'}}, 'source': {'parameters': {'z_source': 'truncnorm(-1.3248,np.inf,loc=1.8248,scale=1.3774).rvs', 'mag_app': 'norm(loc=24.4683,scale=1.5905).rvs', 'R_sersic': 'truncnorm(-1.0747,np.inf,loc=0.4028,scale=0.3748).rvs', 'n_sersic': 1.0, 'center_x': 'norm(loc=-0.0358,scale=0.6046).rvs', 'center_y': 'norm(loc=0.0264,scale=0.7291).rvs', 'e1': 'norm(loc=0.0065,scale=0.2767).rvs', 'e2': 'norm(loc=-0.0037,scale=0.2852).rvs'}}}\n",
      "['main_deflector']\n",
      "EX 'main_deflector' 'main_deflector':{\n",
      "EX 'class' 'class': PEMDShear,\n",
      "['main_deflector', 'parameters']\n",
      "EX 'parameters' 'parameters':{\n",
      "EX 'M200' 'M200': 1e13,\n",
      "EX 'ra_0' 'ra_0':0.0, 'dec_0':0.0\n",
      "['main_deflector']\n",
      "EX '}' }\n",
      "[]\n",
      "EX '},' },\n",
      "['lens_light']\n",
      "EX 'lens_light' 'lens_light':{\n",
      "EX 'class' 'class': SingleSersicSource,\n",
      "['lens_light', 'parameters']\n",
      "EX 'parameters' 'parameters':{\n",
      "['lens_light']\n",
      "EX '}' }\n",
      "[]\n",
      "EX '},' },\n",
      "['source']\n",
      "EX 'source' 'source':{\n",
      "EX 'class' 'class': SingleSersicSource,\n",
      "['source', 'parameters']\n",
      "EX 'parameters' 'parameters':{\n",
      "EX 'output_ab_zeropoint' 'output_ab_zeropoint':output_ab_zeropoint,\n",
      "['source']\n",
      "EX '}' }\n",
      "[]\n",
      "EX '},' },\n",
      "['cosmology']\n",
      "EX 'cosmology' 'cosmology':{\n",
      "['cosmology', 'parameters']\n",
      "EX 'cosmology' 'parameters':{\n",
      "EX 'cosmology' 'cosmology_name': 'planck18'\n",
      "['cosmology']\n",
      "EX 'cosmology' }\n",
      "[]\n",
      "EX '},' },\n",
      "['psf']\n",
      "EX 'psf' 'psf':{\n",
      "['psf', 'parameters']\n",
      "EX 'psf' 'parameters':{\n",
      "EX 'psf' 'psf_type':'GAUSSIAN',\n",
      "EX 'psf' 'fwhm': 0.71\n",
      "EX 'psf' \n",
      "['psf']\n",
      "EX 'psf' }\n",
      "[]\n",
      "EX '},' },\n",
      "['detector']\n",
      "EX 'detector' 'detector':{\n",
      "['detector', 'parameters']\n",
      "EX 'detector' 'parameters':{\n",
      "EX 'detector' 'pixel_scale':0.2,'ccd_gain':0.7,'read_noise':0, #Noise is added from RSP. Gain from here https://community.lsst.org/t/dp0-zeropoints-adding-poisson-noise/8230/7, correct for DP0\n",
      "EX 'detector' 'magnitude_zero_point':output_ab_zeropoint,\n",
      "EX 'detector' 'exposure_time':30,'sky_brightness':100, #Sky needs to be faint, as added in from RSP. Exposure time must = 30 for RSP.\n",
      "EX 'detector' 'num_exposures':None,'background_noise':None\n",
      "['detector']\n",
      "EX 'detector' }\n",
      "[]\n",
      "EX '},' },\n",
      "EX 'lens_subtraction' 'lens_subtraction':False,\n",
      "[]\n",
      "EX '}' }\n"
     ]
    }
   ],
   "source": [
    "#Have now changed this LSST file to be the DP0 config (from rerunning LensPop):\n",
    "LensPop_LSST_config_db = pd.read_csv(population_galaxy_catalogue('LSST'))\n",
    "#LensPop_Euclid_VIS_config_db = pd.read_csv(population_galaxy_catalogue('Euclid'))\n",
    "\n",
    "print('SETTING POWER-LAW SLOPE TO 2, WITH LARGE SCATTER OF 0.22 - derived myself - '+\\\n",
    "      'see SL2S_SLACS_Lens_Properties_Notebook.ipynb')\n",
    "\n",
    "gamma_mean = 2;gamma_sigma = 0.22\n",
    "\n",
    "for survey in ['LSST']:#,'Euclid_VIS']:\n",
    "    LensPop_db_i = {'LSST':LensPop_LSST_config_db,\n",
    "                    #'Euclid_VIS':LensPop_Euclid_VIS_config_db\n",
    "                    }[survey]\n",
    "    LensPop_db_i.loc[LensPop_db_i.prop == 'main_deflector*parameters*gamma','mean'] = gamma_mean\n",
    "    LensPop_db_i.loc[LensPop_db_i.prop == 'main_deflector*parameters*gamma','std'] = gamma_sigma\n",
    "    LensPop_db_i.loc[LensPop_db_i.prop == 'main_deflector*parameters*gamma','sigma_to_zero'] = gamma_mean/gamma_sigma #Truncating at gamma=1 and gamma=3 (both unphysical)\n",
    "    LensPop_db_i.loc[LensPop_db_i.prop == 'main_deflector*parameters*gamma','trunc_bool'] = True\n",
    "    LensPop_db_i.loc[LensPop_db_i.prop == 'main_deflector*parameters*gamma','std1p5'] = 1.5*gamma_sigma\n",
    "    LensPop_db_i.loc[LensPop_db_i.prop == 'main_deflector*parameters*gamma','sigma1p5_to_zero'] = -1/(1.5*gamma_sigma)\n",
    "    '''\n",
    "    Mean of (X^2+Y^2) where X,Y are two gaussian variables with sigma=0.065 is ~0.08. \n",
    "    Mean + 2*sigma is ~ 0.17. This is tuned to the result of Wong 2011: https://iopscience.iop.org/article/10.1088/0004-637X/726/2/84/pdf\n",
    "    '''\n",
    "    shear_mean = 0;shear_sigma = 0.065 \n",
    "    for gamma_i in ['gamma1','gamma2']:\n",
    "        LensPop_db_i.loc[LensPop_db_i.prop == f'main_deflector*parameters*{gamma_i}','mean'] = shear_mean\n",
    "        LensPop_db_i.loc[LensPop_db_i.prop == f'main_deflector*parameters*{gamma_i}','std'] = shear_sigma\n",
    "        LensPop_db_i.loc[LensPop_db_i.prop == f'main_deflector*parameters*{gamma_i}','std1p5'] = 1.5*shear_sigma\n",
    "        LensPop_db_i.loc[LensPop_db_i.prop == f'main_deflector*parameters*{gamma_i}','trunc_bool'] = False\n",
    "    #\n",
    "    center_mean = 0;center_sigma = 0.1\n",
    "    for center_i in ['center_x','center_y']:\n",
    "      for source_i in ['lens_light','main_deflector']:\n",
    "        LensPop_db_i.loc[LensPop_db_i.prop == f'{source_i}*parameters*{center_i}','mean'] = center_mean\n",
    "        LensPop_db_i.loc[LensPop_db_i.prop == f'{source_i}*parameters*{center_i}','std'] = center_sigma\n",
    "        LensPop_db_i.loc[LensPop_db_i.prop == f'{source_i}*parameters*{center_i}','std1p5'] = 1.5*center_sigma\n",
    "        LensPop_db_i.loc[LensPop_db_i.prop == f'{source_i}*parameters*{center_i}','trunc_bool'] = False\n",
    "    #Rounding, to keep things neat:\n",
    "    LensPop_db_i = np.round(LensPop_db_i,4)\n",
    "    #DO NOT REMOVE:\n",
    "    #Ensure the truncations are either negative or the gaussian functions aren't truncated:\n",
    "    assert (np.array(LensPop_db_i['sigma1p5_to_zero']<=0) | np.array(LensPop_db_i['trunc_bool']==False)).all()\n",
    "\n",
    "    generate_config_dict = {'list_of_properties':list(LensPop_db_i['prop']),\n",
    "                            'list_of_means': list(LensPop_db_i['mean']),\n",
    "                            'list_of_std':list(LensPop_db_i['std1p5']),\n",
    "                            'list_of_sigma_to_zero': list(LensPop_db_i['sigma1p5_to_zero']),\n",
    "                            'list_of_truc_bool':list(LensPop_db_i['trunc_bool']),\n",
    "                            'add_crossmatch':True}\n",
    "    folder_path = '/mnt/zfsusers/hollowayp/paltas/paltas/Configs/Examples'\n",
    "    generate_config_file_based_on_database(**generate_config_dict,\n",
    "        old_config_file_path = f'{folder_path}/config_{survey}.py',\n",
    "        new_config_file_path = f'{folder_path}/config_{survey}_Lenspop.py')\n",
    "    if survey=='LSST':\n",
    "        generate_config_file_based_on_database(**generate_config_dict,\n",
    "        old_config_file_path = f'{folder_path}/config_{survey}_no_RSP.py',\n",
    "        new_config_file_path = f'{folder_path}/config_{survey}_Lenspop_no_RSP.py')\n",
    "        generate_config_file_based_on_database(**generate_config_dict,\n",
    "        old_config_file_path = f'{folder_path}/config_{survey}_no_subtr.py',\n",
    "        new_config_file_path = f'{folder_path}/config_{survey}_Lenspop_no_subtr.py')\n",
    "\n",
    "#Code to check configs are the same across lens–subtracted/with-RSP/original LSST config files: \n",
    "#Note this does NOT check the configs are the same across catalogue=True and catalogue=False files:\n",
    "code_to_check_configs('LSST',catalogue=True)\n",
    "code_to_check_configs('LSST',catalogue=False)"
   ]
  }
 ],
 "metadata": {
  "kernelspec": {
   "display_name": "python11_env_new",
   "language": "python",
   "name": "python3"
  },
  "language_info": {
   "codemirror_mode": {
    "name": "ipython",
    "version": 3
   },
   "file_extension": ".py",
   "mimetype": "text/x-python",
   "name": "python",
   "nbconvert_exporter": "python",
   "pygments_lexer": "ipython3",
   "version": "3.11.7"
  }
 },
 "nbformat": 4,
 "nbformat_minor": 2
}
